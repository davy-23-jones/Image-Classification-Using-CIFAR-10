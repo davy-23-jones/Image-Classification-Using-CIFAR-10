{
  "nbformat": 4,
  "nbformat_minor": 0,
  "metadata": {
    "colab": {
      "provenance": [],
      "gpuType": "T4",
      "authorship_tag": "ABX9TyNVEs6Ky5Tt7dX94Ed4I0dr",
      "include_colab_link": true
    },
    "kernelspec": {
      "name": "python3",
      "display_name": "Python 3"
    },
    "language_info": {
      "name": "python"
    },
    "accelerator": "GPU"
  },
  "cells": [
    {
      "cell_type": "markdown",
      "metadata": {
        "id": "view-in-github",
        "colab_type": "text"
      },
      "source": [
        "<a href=\"https://colab.research.google.com/github/davy-23-jones/Image-Classification-Using-CIFAR-10/blob/main/ImageClassificationUsingCIFAR10.ipynb\" target=\"_parent\"><img src=\"https://colab.research.google.com/assets/colab-badge.svg\" alt=\"Open In Colab\"/></a>"
      ]
    },
    {
      "cell_type": "code",
      "execution_count": null,
      "metadata": {
        "id": "tGg_mTmaWeZB"
      },
      "outputs": [],
      "source": [
        "import numpy\n",
        "from keras.layers import Dense, Dropout, Flatten, BatchNormalization, Activation\n",
        "from keras.models import Sequential\n",
        "from keras.layers import Conv2D, MaxPooling2D\n",
        "from keras.constraints import MaxNorm\n",
        "from keras.utils import to_categorical"
      ]
    },
    {
      "cell_type": "code",
      "source": [
        "seed = 21"
      ],
      "metadata": {
        "id": "DXgQekR8W6iX"
      },
      "execution_count": null,
      "outputs": []
    },
    {
      "cell_type": "code",
      "source": [
        "from keras.datasets import cifar10\n",
        "\n",
        "(x_train, y_train), (x_test, y_test) = cifar10.load_data()"
      ],
      "metadata": {
        "colab": {
          "base_uri": "https://localhost:8080/"
        },
        "id": "_3PBFVvMW86m",
        "outputId": "a39d8c8b-4709-43ad-ba47-ed3c18092585"
      },
      "execution_count": null,
      "outputs": [
        {
          "output_type": "stream",
          "name": "stdout",
          "text": [
            "Downloading data from https://www.cs.toronto.edu/~kriz/cifar-10-python.tar.gz\n",
            "170498071/170498071 [==============================] - 3s 0us/step\n"
          ]
        }
      ]
    },
    {
      "cell_type": "code",
      "source": [
        "x_train = x_train.astype('float32')\n",
        "x_test = x_test.astype('float32')\n",
        "x_train = x_train/255.0\n",
        "x_test = x_test/255.0\n"
      ],
      "metadata": {
        "id": "_nQGbBPEYdjG"
      },
      "execution_count": null,
      "outputs": []
    },
    {
      "cell_type": "code",
      "source": [
        "y_train = to_categorical(y_train)\n",
        "y_test = to_categorical(y_test)\n",
        "class_num = y_test.shape[1]"
      ],
      "metadata": {
        "id": "BsVqXajiYjzc"
      },
      "execution_count": null,
      "outputs": []
    },
    {
      "cell_type": "code",
      "source": [
        "model = Sequential()"
      ],
      "metadata": {
        "id": "RtmLCez2ZIdz"
      },
      "execution_count": null,
      "outputs": []
    },
    {
      "cell_type": "code",
      "source": [
        "model.add(Conv2D(32, (3,3), input_shape = x_train.shape[1:], padding = 'same'))\n",
        "model.add(Activation('relu'))"
      ],
      "metadata": {
        "id": "jWMNsagiaAtI"
      },
      "execution_count": null,
      "outputs": []
    },
    {
      "cell_type": "code",
      "source": [
        "model.add(Dropout(0.2))"
      ],
      "metadata": {
        "id": "_2-Z80G7aWIS"
      },
      "execution_count": null,
      "outputs": []
    },
    {
      "cell_type": "code",
      "source": [
        "model.add(BatchNormalization())"
      ],
      "metadata": {
        "id": "lS2d1cufae02"
      },
      "execution_count": null,
      "outputs": []
    },
    {
      "cell_type": "code",
      "source": [
        "model.add(Conv2D(64, (3,3), padding = \"same\"))\n",
        "model.add(Activation('relu'))"
      ],
      "metadata": {
        "id": "0A-UAcR3anNz"
      },
      "execution_count": null,
      "outputs": []
    },
    {
      "cell_type": "code",
      "source": [
        "model.add(MaxPooling2D(pool_size=(2,2)))\n",
        "model.add(Dropout(0.2))\n",
        "model.add(BatchNormalization())"
      ],
      "metadata": {
        "id": "vEem_2Jea2Pf"
      },
      "execution_count": null,
      "outputs": []
    },
    {
      "cell_type": "code",
      "source": [
        "model.add(Conv2D(64, (3,3), padding = \"same\"))\n",
        "model.add(Activation('relu'))\n",
        "model.add(MaxPooling2D(pool_size=(2,2)))\n",
        "model.add(Dropout(0.2))\n",
        "model.add(BatchNormalization())\n",
        "\n",
        "model.add(Conv2D(128, (3,3), padding = \"same\"))\n",
        "model.add(Activation('relu'))\n",
        "model.add(Dropout(0.2))\n",
        "model.add(BatchNormalization())"
      ],
      "metadata": {
        "id": "2okTHOFrbAET"
      },
      "execution_count": null,
      "outputs": []
    },
    {
      "cell_type": "code",
      "source": [
        "model.add(Flatten())\n",
        "model.add(Dropout(0.2))"
      ],
      "metadata": {
        "id": "x6Ga8bQNbT-m"
      },
      "execution_count": null,
      "outputs": []
    },
    {
      "cell_type": "code",
      "source": [
        "model.add(Dense(256, kernel_constraint=MaxNorm(3)))\n",
        "model.add(Activation('relu'))\n",
        "model.add(Dropout(0.2))\n",
        "model.add(BatchNormalization())\n",
        "\n",
        "model.add(Dense(128, kernel_constraint=MaxNorm(3)))\n",
        "model.add(Activation('relu'))\n",
        "model.add(Dropout(0.2))\n",
        "model.add(BatchNormalization())"
      ],
      "metadata": {
        "id": "OlzvBDLWbYWz"
      },
      "execution_count": null,
      "outputs": []
    },
    {
      "cell_type": "code",
      "source": [
        "model.add(Dense(class_num))\n",
        "model.add(Activation('softmax'))"
      ],
      "metadata": {
        "id": "qHLL7x0lbog2"
      },
      "execution_count": null,
      "outputs": []
    },
    {
      "cell_type": "code",
      "source": [
        "epochs = 25\n",
        "optimizer = 'adam'"
      ],
      "metadata": {
        "id": "BBdgQzD1b31m"
      },
      "execution_count": null,
      "outputs": []
    },
    {
      "cell_type": "code",
      "source": [
        "model.compile(loss='categorical_crossentropy', optimizer = optimizer, metrics = ['accuracy'])"
      ],
      "metadata": {
        "id": "Rx-pX7hyb6mu"
      },
      "execution_count": null,
      "outputs": []
    },
    {
      "cell_type": "code",
      "source": [
        "print(model.summary())"
      ],
      "metadata": {
        "colab": {
          "base_uri": "https://localhost:8080/"
        },
        "id": "F6l5HrrQcDLU",
        "outputId": "1fc196d8-1208-4b3d-a26f-bb0bf4a44102"
      },
      "execution_count": null,
      "outputs": [
        {
          "output_type": "stream",
          "name": "stdout",
          "text": [
            "Model: \"sequential\"\n",
            "_________________________________________________________________\n",
            " Layer (type)                Output Shape              Param #   \n",
            "=================================================================\n",
            " conv2d (Conv2D)             (None, 32, 32, 32)        896       \n",
            "                                                                 \n",
            " activation (Activation)     (None, 32, 32, 32)        0         \n",
            "                                                                 \n",
            " dropout (Dropout)           (None, 32, 32, 32)        0         \n",
            "                                                                 \n",
            " batch_normalization (Batch  (None, 32, 32, 32)        128       \n",
            " Normalization)                                                  \n",
            "                                                                 \n",
            " conv2d_1 (Conv2D)           (None, 32, 32, 64)        18496     \n",
            "                                                                 \n",
            " activation_1 (Activation)   (None, 32, 32, 64)        0         \n",
            "                                                                 \n",
            " max_pooling2d (MaxPooling2  (None, 16, 16, 64)        0         \n",
            " D)                                                              \n",
            "                                                                 \n",
            " dropout_1 (Dropout)         (None, 16, 16, 64)        0         \n",
            "                                                                 \n",
            " batch_normalization_1 (Bat  (None, 16, 16, 64)        256       \n",
            " chNormalization)                                                \n",
            "                                                                 \n",
            " conv2d_2 (Conv2D)           (None, 16, 16, 64)        36928     \n",
            "                                                                 \n",
            " activation_2 (Activation)   (None, 16, 16, 64)        0         \n",
            "                                                                 \n",
            " max_pooling2d_1 (MaxPoolin  (None, 8, 8, 64)          0         \n",
            " g2D)                                                            \n",
            "                                                                 \n",
            " dropout_2 (Dropout)         (None, 8, 8, 64)          0         \n",
            "                                                                 \n",
            " batch_normalization_2 (Bat  (None, 8, 8, 64)          256       \n",
            " chNormalization)                                                \n",
            "                                                                 \n",
            " conv2d_3 (Conv2D)           (None, 8, 8, 128)         73856     \n",
            "                                                                 \n",
            " activation_3 (Activation)   (None, 8, 8, 128)         0         \n",
            "                                                                 \n",
            " dropout_3 (Dropout)         (None, 8, 8, 128)         0         \n",
            "                                                                 \n",
            " batch_normalization_3 (Bat  (None, 8, 8, 128)         512       \n",
            " chNormalization)                                                \n",
            "                                                                 \n",
            " flatten (Flatten)           (None, 8192)              0         \n",
            "                                                                 \n",
            " dropout_4 (Dropout)         (None, 8192)              0         \n",
            "                                                                 \n",
            " dense (Dense)               (None, 256)               2097408   \n",
            "                                                                 \n",
            " activation_4 (Activation)   (None, 256)               0         \n",
            "                                                                 \n",
            " dropout_5 (Dropout)         (None, 256)               0         \n",
            "                                                                 \n",
            " batch_normalization_4 (Bat  (None, 256)               1024      \n",
            " chNormalization)                                                \n",
            "                                                                 \n",
            " dense_1 (Dense)             (None, 128)               32896     \n",
            "                                                                 \n",
            " activation_5 (Activation)   (None, 128)               0         \n",
            "                                                                 \n",
            " dropout_6 (Dropout)         (None, 128)               0         \n",
            "                                                                 \n",
            " batch_normalization_5 (Bat  (None, 128)               512       \n",
            " chNormalization)                                                \n",
            "                                                                 \n",
            " dense_2 (Dense)             (None, 10)                1290      \n",
            "                                                                 \n",
            " activation_6 (Activation)   (None, 10)                0         \n",
            "                                                                 \n",
            "=================================================================\n",
            "Total params: 2264458 (8.64 MB)\n",
            "Trainable params: 2263114 (8.63 MB)\n",
            "Non-trainable params: 1344 (5.25 KB)\n",
            "_________________________________________________________________\n",
            "None\n"
          ]
        }
      ]
    },
    {
      "cell_type": "code",
      "source": [
        "numpy.random.seed(seed)\n",
        "model.fit(x_train, y_train, validation_data=(x_test, y_test), epochs=epochs, batch_size = 64)"
      ],
      "metadata": {
        "colab": {
          "base_uri": "https://localhost:8080/"
        },
        "id": "HC2ZdEW-cISF",
        "outputId": "ef482e85-8bca-47c1-bff4-d8c562d5507c"
      },
      "execution_count": null,
      "outputs": [
        {
          "output_type": "stream",
          "name": "stdout",
          "text": [
            "Epoch 1/25\n",
            "782/782 [==============================] - 25s 15ms/step - loss: 1.4985 - accuracy: 0.4672 - val_loss: 1.4820 - val_accuracy: 0.4906\n",
            "Epoch 2/25\n",
            "782/782 [==============================] - 13s 17ms/step - loss: 1.0214 - accuracy: 0.6400 - val_loss: 1.0523 - val_accuracy: 0.6324\n",
            "Epoch 3/25\n",
            "782/782 [==============================] - 11s 14ms/step - loss: 0.8475 - accuracy: 0.7018 - val_loss: 1.4842 - val_accuracy: 0.5309\n",
            "Epoch 4/25\n",
            "782/782 [==============================] - 11s 14ms/step - loss: 0.7549 - accuracy: 0.7351 - val_loss: 0.6759 - val_accuracy: 0.7620\n",
            "Epoch 5/25\n",
            "782/782 [==============================] - 11s 14ms/step - loss: 0.6973 - accuracy: 0.7557 - val_loss: 0.6534 - val_accuracy: 0.7676\n",
            "Epoch 6/25\n",
            "782/782 [==============================] - 11s 14ms/step - loss: 0.6602 - accuracy: 0.7694 - val_loss: 0.6368 - val_accuracy: 0.7727\n",
            "Epoch 7/25\n",
            "782/782 [==============================] - 10s 13ms/step - loss: 0.6241 - accuracy: 0.7800 - val_loss: 0.6797 - val_accuracy: 0.7609\n",
            "Epoch 8/25\n",
            "782/782 [==============================] - 11s 14ms/step - loss: 0.6178 - accuracy: 0.7842 - val_loss: 0.6022 - val_accuracy: 0.7924\n",
            "Epoch 9/25\n",
            "782/782 [==============================] - 11s 14ms/step - loss: 0.5782 - accuracy: 0.7973 - val_loss: 0.5707 - val_accuracy: 0.8049\n",
            "Epoch 10/25\n",
            "782/782 [==============================] - 11s 14ms/step - loss: 0.5535 - accuracy: 0.8078 - val_loss: 0.6152 - val_accuracy: 0.7874\n",
            "Epoch 11/25\n",
            "782/782 [==============================] - 11s 14ms/step - loss: 0.5364 - accuracy: 0.8131 - val_loss: 0.5921 - val_accuracy: 0.7954\n",
            "Epoch 12/25\n",
            "782/782 [==============================] - 11s 13ms/step - loss: 0.5204 - accuracy: 0.8190 - val_loss: 0.5548 - val_accuracy: 0.8115\n",
            "Epoch 13/25\n",
            "782/782 [==============================] - 11s 13ms/step - loss: 0.5084 - accuracy: 0.8229 - val_loss: 0.5724 - val_accuracy: 0.8073\n",
            "Epoch 14/25\n",
            "782/782 [==============================] - 11s 14ms/step - loss: 0.4977 - accuracy: 0.8270 - val_loss: 0.5654 - val_accuracy: 0.8060\n",
            "Epoch 15/25\n",
            "782/782 [==============================] - 11s 14ms/step - loss: 0.4855 - accuracy: 0.8297 - val_loss: 0.5570 - val_accuracy: 0.8122\n",
            "Epoch 16/25\n",
            "782/782 [==============================] - 10s 13ms/step - loss: 0.4752 - accuracy: 0.8333 - val_loss: 0.6478 - val_accuracy: 0.7816\n",
            "Epoch 17/25\n",
            "782/782 [==============================] - 11s 14ms/step - loss: 0.4686 - accuracy: 0.8347 - val_loss: 0.5585 - val_accuracy: 0.8117\n",
            "Epoch 18/25\n",
            "782/782 [==============================] - 11s 14ms/step - loss: 0.4670 - accuracy: 0.8376 - val_loss: 0.5756 - val_accuracy: 0.8017\n",
            "Epoch 19/25\n",
            "782/782 [==============================] - 11s 14ms/step - loss: 0.4538 - accuracy: 0.8420 - val_loss: 0.5923 - val_accuracy: 0.7970\n",
            "Epoch 20/25\n",
            "782/782 [==============================] - 11s 14ms/step - loss: 0.4490 - accuracy: 0.8432 - val_loss: 0.5579 - val_accuracy: 0.8073\n",
            "Epoch 21/25\n",
            "782/782 [==============================] - 11s 14ms/step - loss: 0.4458 - accuracy: 0.8450 - val_loss: 0.5278 - val_accuracy: 0.8226\n",
            "Epoch 22/25\n",
            "782/782 [==============================] - 11s 14ms/step - loss: 0.4377 - accuracy: 0.8482 - val_loss: 0.5061 - val_accuracy: 0.8283\n",
            "Epoch 23/25\n",
            "782/782 [==============================] - 11s 14ms/step - loss: 0.4306 - accuracy: 0.8505 - val_loss: 0.5459 - val_accuracy: 0.8150\n",
            "Epoch 24/25\n",
            "782/782 [==============================] - 11s 14ms/step - loss: 0.4245 - accuracy: 0.8521 - val_loss: 0.5117 - val_accuracy: 0.8269\n",
            "Epoch 25/25\n",
            "782/782 [==============================] - 11s 14ms/step - loss: 0.4198 - accuracy: 0.8532 - val_loss: 0.5012 - val_accuracy: 0.8338\n"
          ]
        },
        {
          "output_type": "execute_result",
          "data": {
            "text/plain": [
              "<keras.src.callbacks.History at 0x7d127072c520>"
            ]
          },
          "metadata": {},
          "execution_count": 19
        }
      ]
    },
    {
      "cell_type": "code",
      "source": [
        "scores = model.evaluate(x_test, y_test, verbose = 0)\n",
        "print(\"Accuracy:\", scores[1]*100)"
      ],
      "metadata": {
        "colab": {
          "base_uri": "https://localhost:8080/"
        },
        "id": "lfi22otIcgvY",
        "outputId": "db025ca1-a674-4bca-a55f-b8a11f7a6033"
      },
      "execution_count": null,
      "outputs": [
        {
          "output_type": "stream",
          "name": "stdout",
          "text": [
            "Accuracy: 83.38000178337097\n"
          ]
        }
      ]
    },
    {
      "cell_type": "code",
      "source": [],
      "metadata": {
        "id": "pc8ri2wKczi9"
      },
      "execution_count": null,
      "outputs": []
    }
  ]
}